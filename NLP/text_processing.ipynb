{
 "cells": [
  {
   "cell_type": "markdown",
   "metadata": {},
   "source": [
    "# Text Processing\n",
    "\n",
    "## Capturing Text Data\n",
    "\n",
    "### Plain Text"
   ]
  },
  {
   "cell_type": "code",
   "execution_count": 1,
   "metadata": {},
   "outputs": [
    {
     "name": "stdout",
     "output_type": "stream",
     "text": [
      "Hieroglyphic writing dates from c. 3000 BC, and is composed of hundreds of symbols. A hieroglyph can represent a word, a sound, or a silent determinative; and the same symbol can serve different purposes in different contexts. Hieroglyphs were a formal script, used on stone monuments and in tombs, that could be as detailed as individual works of art.\n",
      "\n"
     ]
    }
   ],
   "source": [
    "import os\n",
    "\n",
    "# Read in a plain text file\n",
    "with open(os.path.join(\"data\", \"hieroglyph.txt\"), \"r\") as f:\n",
    "    text = f.read()\n",
    "    print(text)"
   ]
  },
  {
   "cell_type": "markdown",
   "metadata": {},
   "source": [
    "### Tabular Data"
   ]
  },
  {
   "cell_type": "code",
   "execution_count": 2,
   "metadata": {
    "scrolled": true
   },
   "outputs": [
    {
     "data": {
      "text/html": [
       "<div>\n",
       "<style scoped>\n",
       "    .dataframe tbody tr th:only-of-type {\n",
       "        vertical-align: middle;\n",
       "    }\n",
       "\n",
       "    .dataframe tbody tr th {\n",
       "        vertical-align: top;\n",
       "    }\n",
       "\n",
       "    .dataframe thead th {\n",
       "        text-align: right;\n",
       "    }\n",
       "</style>\n",
       "<table border=\"1\" class=\"dataframe\">\n",
       "  <thead>\n",
       "    <tr style=\"text-align: right;\">\n",
       "      <th></th>\n",
       "      <th>publisher</th>\n",
       "      <th>title</th>\n",
       "    </tr>\n",
       "  </thead>\n",
       "  <tbody>\n",
       "    <tr>\n",
       "      <th>0</th>\n",
       "      <td>Livemint</td>\n",
       "      <td>fed's charles plosser sees high bar for change...</td>\n",
       "    </tr>\n",
       "    <tr>\n",
       "      <th>1</th>\n",
       "      <td>IFA Magazine</td>\n",
       "      <td>us open: stocks fall after fed official hints ...</td>\n",
       "    </tr>\n",
       "    <tr>\n",
       "      <th>2</th>\n",
       "      <td>IFA Magazine</td>\n",
       "      <td>fed risks falling 'behind the curve', charles ...</td>\n",
       "    </tr>\n",
       "    <tr>\n",
       "      <th>3</th>\n",
       "      <td>Moneynews</td>\n",
       "      <td>fed's plosser: nasty weather has curbed job gr...</td>\n",
       "    </tr>\n",
       "    <tr>\n",
       "      <th>4</th>\n",
       "      <td>NASDAQ</td>\n",
       "      <td>plosser: fed may have to accelerate tapering pace</td>\n",
       "    </tr>\n",
       "  </tbody>\n",
       "</table>\n",
       "</div>"
      ],
      "text/plain": [
       "      publisher                                              title\n",
       "0      Livemint  fed's charles plosser sees high bar for change...\n",
       "1  IFA Magazine  us open: stocks fall after fed official hints ...\n",
       "2  IFA Magazine  fed risks falling 'behind the curve', charles ...\n",
       "3     Moneynews  fed's plosser: nasty weather has curbed job gr...\n",
       "4        NASDAQ  plosser: fed may have to accelerate tapering pace"
      ]
     },
     "execution_count": 2,
     "metadata": {},
     "output_type": "execute_result"
    }
   ],
   "source": [
    "import pandas as pd\n",
    "\n",
    "# Extract text column from a dataframe\n",
    "df = pd.read_csv(os.path.join(\"data\", \"news.csv\"))\n",
    "df.head()[['publisher', 'title']]\n",
    "\n",
    "# Convert text column to lowercase\n",
    "df['title'] = df['title'].str.lower()\n",
    "df.head()[['publisher', 'title']]"
   ]
  },
  {
   "cell_type": "markdown",
   "metadata": {},
   "source": [
    "### Online Resource"
   ]
  },
  {
   "cell_type": "code",
   "execution_count": 3,
   "metadata": {
    "scrolled": true
   },
   "outputs": [
    {
     "name": "stdout",
     "output_type": "stream",
     "text": [
      "{\n",
      "    \"success\": {\n",
      "        \"total\": 1\n",
      "    },\n",
      "    \"contents\": {\n",
      "        \"quotes\": [\n",
      "            {\n",
      "                \"quote\": \"Not every day is going to offer us a chance to save somebody's life, but every day offers us an opportunity to affect one.\",\n",
      "                \"length\": \"122\",\n",
      "                \"author\": \"Mark Bezos\",\n",
      "                \"tags\": {\n",
      "                    \"0\": \"inspire\",\n",
      "                    \"1\": \"life\",\n",
      "                    \"3\": \"tod\"\n",
      "                },\n",
      "                \"category\": \"inspire\",\n",
      "                \"language\": \"en\",\n",
      "                \"date\": \"2020-04-04\",\n",
      "                \"permalink\": \"https://theysaidso.com/quote/mark-bezos-not-every-day-is-going-to-offer-us-a-chance-to-save-somebodys-life-bu\",\n",
      "                \"id\": \"9V2lXZnG7op9S4S8prwXfQeF\",\n",
      "                \"background\": \"https://theysaidso.com/img/qod/qod-inspire.jpg\",\n",
      "                \"title\": \"Inspiring Quote of the day\"\n",
      "            }\n",
      "        ]\n",
      "    },\n",
      "    \"baseurl\": \"https://theysaidso.com\",\n",
      "    \"copyright\": {\n",
      "        \"year\": 2022,\n",
      "        \"url\": \"https://theysaidso.com\"\n",
      "    }\n",
      "}\n",
      "Not every day is going to offer us a chance to save somebody's life, but every day offers us an opportunity to affect one. \n",
      "-- Mark Bezos\n"
     ]
    }
   ],
   "source": [
    "import requests\n",
    "import json\n",
    "\n",
    "# Fetch data from a REST API\n",
    "r = requests.get(\n",
    "    \"https://quotes.rest/qod.json\")\n",
    "res = r.json()\n",
    "print(json.dumps(res, indent=4))\n",
    "\n",
    "# Extract relevant object and field\n",
    "q = res[\"contents\"][\"quotes\"][0]\n",
    "print(q[\"quote\"], \"\\n--\", q[\"author\"])"
   ]
  },
  {
   "cell_type": "markdown",
   "metadata": {},
   "source": [
    "## Cleaning"
   ]
  },
  {
   "cell_type": "code",
   "execution_count": 4,
   "metadata": {
    "scrolled": true
   },
   "outputs": [
    {
     "name": "stdout",
     "output_type": "stream",
     "text": [
      "<html op=\"news\"><head><meta name=\"referrer\" content=\"origin\"><meta name=\"viewport\" content=\"width=device-width, initial-scale=1.0\"><link rel=\"stylesheet\" type=\"text/css\" href=\"news.css?yKbFoAYS7v71r3MOfeiU\">\n",
      "        <link rel=\"shortcut icon\" href=\"favicon.ico\">\n",
      "          <link rel=\"alternate\" type=\"application/rss+xml\" title=\"RSS\" href=\"rss\">\n",
      "        <title>Hacker News</title></head><body><center><table id=\"hnmain\" border=\"0\" cellpadding=\"0\" cellspacing=\"0\" width=\"85%\" bgcolor=\"#f6f6ef\">\n",
      "        <tr><td bgcolor=\"#ff6600\"><table border=\"0\" cellpadding=\"0\" cellspacing=\"0\" width=\"100%\" style=\"padding:2px\"><tr><td style=\"width:18px;padding-right:4px\"><a href=\"https://news.ycombinator.com\"><img src=\"y18.gif\" width=\"18\" height=\"18\" style=\"border:1px white solid;\"></a></td>\n",
      "                  <td style=\"line-height:12pt; height:10px;\"><span class=\"pagetop\"><b class=\"hnname\"><a href=\"news\">Hacker News</a></b>\n",
      "              <a href=\"newest\">new</a> | <a href=\"front\">past</a> | <a href=\"newcomments\">comments</a> | <a href=\"ask\">ask</a> | <a href=\"show\">show</a> | <a href=\"jobs\">jobs</a> | <a href=\"submit\">submit</a>            </span></td><td style=\"text-align:right;padding-right:4px;\"><span class=\"pagetop\">\n",
      "                              <a href=\"login?goto=news\">login</a>\n",
      "                          </span></td>\n",
      "              </tr></table></td></tr>\n",
      "<tr id=\"pagespace\" title=\"\" style=\"height:10px\"></tr><tr><td><table border=\"0\" cellpadding=\"0\" cellspacing=\"0\" class=\"itemlist\">\n",
      "              <tr class='athing' id='22780616'>\n",
      "      <td align=\"right\" valign=\"top\" class=\"title\"><span class=\"rank\">1.</span></td>      <td valign=\"top\" class=\"votelinks\"><center><a id='up_22780616' href='vote?id=22780616&amp;how=up&amp;goto=news'><div class='votearrow' title='upvote'></div></a></center></td><td class=\"title\"><a href=\"https://www.nytimes.com/2020/04/01/technology/virus-start-ups-pummeled-layoffs-unwinding.html\" class=\"storylink\">Startups are pummeled in the ‘great unwinding’</a><span class=\"sitebit comhead\"> (<a href=\"from?site=nytimes.com\"><span class=\"sitestr\">nytimes.com</span></a>)</span></td></tr><tr><td colspan=\"2\"></td><td class=\"subtext\">\n",
      "        <span class=\"score\" id=\"score_22780616\">138 points</span> by <a href=\"user?id=haasted\" class=\"hnuser\">haasted</a> <span class=\"age\"><a href=\"item?id=22780616\">1 hour ago</a></span> <span id=\"unv_22780616\"></span> | <a href=\"hide?id=22780616&amp;goto=news\">hide</a> | <a href=\"item?id=22780616\">96&nbsp;comments</a>              </td></tr>\n",
      "      <tr class=\"spacer\" style=\"height:5px\"></tr>\n",
      "                <tr class='athing' id='22780146'>\n",
      "      <td align=\"right\" valign=\"top\" class=\"title\"><span class=\"rank\">2.</span></td>      <td valign=\"top\" class=\"votelinks\"><center><a id='up_22780146' href='vote?id=22780146&amp;how=up&amp;goto=news'><div class='votearrow' title='upvote'></div></a></center></td><td class=\"title\"><a href=\"https://www.antipope.org/charlie/blog-static/2020/04/reality-keeps-stealing-my-line.html\" class=\"storylink\">Yet another novel I will no longer write</a><span class=\"sitebit comhead\"> (<a href=\"from?site=antipope.org\"><span class=\"sitestr\">antipope.org</span></a>)</span></td></tr><tr><td colspan=\"2\"></td><td class=\"subtext\">\n",
      "        <span class=\"score\" id=\"score_22780146\">111 points</span> by <a href=\"user?id=ttepasse\" class=\"hnuser\">ttepasse</a> <span class=\"age\"><a href=\"item?id=22780146\">2 hours ago</a></span> <span id=\"unv_22780146\"></span> | <a href=\"hide?id=22780146&amp;goto=news\">hide</a> | <a href=\"item?id=22780146\">47&nbsp;comments</a>              </td></tr>\n",
      "      <tr class=\"spacer\" style=\"height:5px\"></tr>\n",
      "                <tr class='athing' id='22780124'>\n",
      "      <td align=\"right\" valign=\"top\" class=\"title\"><span class=\"rank\">3.</span></td>      <td valign=\"top\" class=\"votelinks\"><center><a id='up_22780124' href='vote?id=22780124&amp;how=up&amp;goto=news'><div class='votearrow' title='upvote'></div></a></center></td><td class=\"title\"><a href=\"https://ac-catch.com/\" class=\"storylink\">Show HN: A site to keep track of critters you can catch in Animal Crossing</a><span class=\"sitebit comhead\"> (<a href=\"from?site=ac-catch.com\"><span class=\"sitestr\">ac-catch.com</span></a>)</span></td></tr><tr><td colspan=\"2\"></td><td class=\"subtext\">\n",
      "        <span class=\"score\" id=\"score_22780124\">60 points</span> by <a href=\"user?id=sawyerjhood\" class=\"hnuser\">sawyerjhood</a> <span class=\"age\"><a href=\"item?id=22780124\">2 hours ago</a></span> <span id=\"unv_22780124\"></span> | <a href=\"hide?id=22780124&amp;goto=news\">hide</a> | <a href=\"item?id=22780124\">18&nbsp;comments</a>              </td></tr>\n",
      "      <tr class=\"spacer\" style=\"height:5px\"></tr>\n",
      "                <tr class='athing' id='22778309'>\n",
      "      <td align=\"right\" valign=\"top\" class=\"title\"><span class=\"rank\">4.</span></td>      <td valign=\"top\" class=\"votelinks\"><center><a id='up_22778309' href='vote?id=22778309&amp;how=up&amp;goto=news'><div class='votearrow' title='upvote'></div></a></center></td><td class=\"title\"><a href=\"https://gds.blog.gov.uk/2020/04/03/how-gov-uk-notify-reliably-sends-text-messages-to-users/\" class=\"storylink\">How Gov.uk Notify reliably sends text messages to users</a><span class=\"sitebit comhead\"> (<a href=\"from?site=gds.blog.gov.uk\"><span class=\"sitestr\">gds.blog.gov.uk</span></a>)</span></td></tr><tr><td colspan=\"2\"></td><td class=\"subtext\">\n",
      "        <span class=\"score\" id=\"score_22778309\">181 points</span> by <a href=\"user?id=robin_reala\" class=\"hnuser\">robin_reala</a> <span class=\"age\"><a href=\"item?id=22778309\">6 hours ago</a></span> <span id=\"unv_22778309\"></span> | <a href=\"hide?id=22778309&amp;goto=news\">hide</a> | <a href=\"item?id=22778309\">72&nbsp;comments</a>              </td></tr>\n",
      "      <tr class=\"spacer\" style=\"height:5px\"></tr>\n",
      "                <tr class='athing' id='22777589'>\n",
      "      <td align=\"right\" valign=\"top\" class=\"title\"><span class=\"rank\">5.</span></td>      <td valign=\"top\" class=\"votelinks\"><center><a id='up_22777589' href='vote?id=22777589&amp;how=up&amp;goto=news'><div class='votearrow' title='upvote'></div></a></center></td><td class=\"title\"><a href=\"https://www.theregister.co.uk/2020/04/04/mi6_personnel_bletchley/\" class=\"storylink\">Rare Second World War Footage of Bletchley Park Emerges</a><span class=\"sitebit comhead\"> (<a href=\"from?site=theregister.co.uk\"><span class=\"sitestr\">theregister.co.uk</span></a>)</span></td></tr><tr><td colspan=\"2\"></td><td class=\"subtext\">\n",
      "        <span class=\"score\" id=\"score_22777589\">29 points</span> by <a href=\"user?id=sohkamyung\" class=\"hnuser\">sohkamyung</a> <span class=\"age\"><a href=\"item?id=22777589\">3 hours ago</a></span> <span id=\"unv_22777589\"></span> | <a href=\"hide?id=22777589&amp;goto=news\">hide</a> | <a href=\"item?id=22777589\">3&nbsp;comments</a>              </td></tr>\n",
      "      <tr class=\"spacer\" style=\"height:5px\"></tr>\n",
      "                <tr class='athing' id='22777397'>\n",
      "      <td align=\"right\" valign=\"top\" class=\"title\"><span class=\"rank\">6.</span></td>      <td valign=\"top\" class=\"votelinks\"><center><a id='up_22777397' href='vote?id=22777397&amp;how=up&amp;goto=news'><div class='votearrow' title='upvote'></div></a></center></td><td class=\"title\"><a href=\"https://treendly.com\" class=\"storylink\">Show HN: I built a service to discover and monitor rapidly growing trends</a><span class=\"sitebit comhead\"> (<a href=\"from?site=treendly.com\"><span class=\"sitestr\">treendly.com</span></a>)</span></td></tr><tr><td colspan=\"2\"></td><td class=\"subtext\">\n",
      "        <span class=\"score\" id=\"score_22777397\">249 points</span> by <a href=\"user?id=mikerubini\" class=\"hnuser\">mikerubini</a> <span class=\"age\"><a href=\"item?id=22777397\">10 hours ago</a></span> <span id=\"unv_22777397\"></span> | <a href=\"hide?id=22777397&amp;goto=news\">hide</a> | <a href=\"item?id=22777397\">88&nbsp;comments</a>              </td></tr>\n",
      "      <tr class=\"spacer\" style=\"height:5px\"></tr>\n",
      "                <tr class='athing' id='22781113'>\n",
      "      <td align=\"right\" valign=\"top\" class=\"title\"><span class=\"rank\">7.</span></td>      <td valign=\"top\" class=\"votelinks\"><center><a id='up_22781113' href='vote?id=22781113&amp;how=up&amp;goto=news'><div class='votearrow' title='upvote'></div></a></center></td><td class=\"title\"><a href=\"https://addons.mozilla.org/de/firefox/addon/phagocyte/\" class=\"storylink\">Show HN: Firefox addon that hides news articles about Covid-19</a><span class=\"sitebit comhead\"> (<a href=\"from?site=addons.mozilla.org\"><span class=\"sitestr\">addons.mozilla.org</span></a>)</span></td></tr><tr><td colspan=\"2\"></td><td class=\"subtext\">\n",
      "        <span class=\"score\" id=\"score_22781113\">17 points</span> by <a href=\"user?id=mailea\" class=\"hnuser\">mailea</a> <span class=\"age\"><a href=\"item?id=22781113\">51 minutes ago</a></span> <span id=\"unv_22781113\"></span> | <a href=\"hide?id=22781113&amp;goto=news\">hide</a> | <a href=\"item?id=22781113\">2&nbsp;comments</a>              </td></tr>\n",
      "      <tr class=\"spacer\" style=\"height:5px\"></tr>\n",
      "                <tr class='athing' id='22776753'>\n",
      "      <td align=\"right\" valign=\"top\" class=\"title\"><span class=\"rank\">8.</span></td>      <td valign=\"top\" class=\"votelinks\"><center><a id='up_22776753' href='vote?id=22776753&amp;how=up&amp;goto=news'><div class='votearrow' title='upvote'></div></a></center></td><td class=\"title\"><a href=\"https://leontrolski.github.io/33-line-react.html\" class=\"storylink\">Show HN: 33 line React</a><span class=\"sitebit comhead\"> (<a href=\"from?site=leontrolski.github.io\"><span class=\"sitestr\">leontrolski.github.io</span></a>)</span></td></tr><tr><td colspan=\"2\"></td><td class=\"subtext\">\n",
      "        <span class=\"score\" id=\"score_22776753\">359 points</span> by <a href=\"user?id=leontrolski\" class=\"hnuser\">leontrolski</a> <span class=\"age\"><a href=\"item?id=22776753\">13 hours ago</a></span> <span id=\"unv_22776753\"></span> | <a href=\"hide?id=22776753&amp;goto=news\">hide</a> | <a href=\"item?id=22776753\">131&nbsp;comments</a>              </td></tr>\n",
      "      <tr class=\"spacer\" style=\"height:5px\"></tr>\n",
      "                <tr class='athing' id='22777489'>\n",
      "      <td align=\"right\" valign=\"top\" class=\"title\"><span class=\"rank\">9.</span></td>      <td valign=\"top\" class=\"votelinks\"><center><a id='up_22777489' href='vote?id=22777489&amp;how=up&amp;goto=news'><div class='votearrow' title='upvote'></div></a></center></td><td class=\"title\"><a href=\"https://phys.org/news/2020-04-deep-sea-worms-bacteria-team-harvest.html\" class=\"storylink\">Deep-sea worms and bacteria team up to harvest methane</a><span class=\"sitebit comhead\"> (<a href=\"from?site=phys.org\"><span class=\"sitestr\">phys.org</span></a>)</span></td></tr><tr><td colspan=\"2\"></td><td class=\"subtext\">\n",
      "        <span class=\"score\" id=\"score_22777489\">35 points</span> by <a href=\"user?id=dnetesn\" class=\"hnuser\">dnetesn</a> <span class=\"age\"><a href=\"item?id=22777489\">5 hours ago</a></span> <span id=\"unv_22777489\"></span> | <a href=\"hide?id=22777489&amp;goto=news\">hide</a> | <a href=\"item?id=22777489\">3&nbsp;comments</a>              </td></tr>\n",
      "      <tr class=\"spacer\" style=\"height:5px\"></tr>\n",
      "                <tr class='athing' id='22770666'>\n",
      "      <td align=\"right\" valign=\"top\" class=\"title\"><span class=\"rank\">10.</span></td>      <td valign=\"top\" class=\"votelinks\"><center><a id='up_22770666' href='vote?id=22770666&amp;how=up&amp;goto=news'><div class='votearrow' title='upvote'></div></a></center></td><td class=\"title\"><a href=\"https://www.montgomeryadvertiser.com/story/news/local/solutions-journalism/2019/09/05/gainesville-florida-put-its-internal-emails-online-making-residents-angry-frustrating-journalists/2196171001/\" class=\"storylink\">Gainesville, Florida, put its internal emails online with few limits</a><span class=\"sitebit comhead\"> (<a href=\"from?site=montgomeryadvertiser.com\"><span class=\"sitestr\">montgomeryadvertiser.com</span></a>)</span></td></tr><tr><td colspan=\"2\"></td><td class=\"subtext\">\n",
      "        <span class=\"score\" id=\"score_22770666\">116 points</span> by <a href=\"user?id=danso\" class=\"hnuser\">danso</a> <span class=\"age\"><a href=\"item?id=22770666\">11 hours ago</a></span> <span id=\"unv_22770666\"></span> | <a href=\"hide?id=22770666&amp;goto=news\">hide</a> | <a href=\"item?id=22770666\">30&nbsp;comments</a>              </td></tr>\n",
      "      <tr class=\"spacer\" style=\"height:5px\"></tr>\n",
      "                <tr class='athing' id='22776651'>\n",
      "      <td align=\"right\" valign=\"top\" class=\"title\"><span class=\"rank\">11.</span></td>      <td valign=\"top\" class=\"votelinks\"><center><a id='up_22776651' href='vote?id=22776651&amp;how=up&amp;goto=news'><div class='votearrow' title='upvote'></div></a></center></td><td class=\"title\"><a href=\"https://stackoverflow.blog/2020/03/31/building-dark-mode-on-stack-overflow/\" class=\"storylink\" rel=\"nofollow\">Building dark mode on Stack Overflow</a><span class=\"sitebit comhead\"> (<a href=\"from?site=stackoverflow.blog\"><span class=\"sitestr\">stackoverflow.blog</span></a>)</span></td></tr><tr><td colspan=\"2\"></td><td class=\"subtext\">\n",
      "        <span class=\"score\" id=\"score_22776651\">15 points</span> by <a href=\"user?id=lobo_tuerto\" class=\"hnuser\">lobo_tuerto</a> <span class=\"age\"><a href=\"item?id=22776651\">2 hours ago</a></span> <span id=\"unv_22776651\"></span> | <a href=\"hide?id=22776651&amp;goto=news\">hide</a> | <a href=\"item?id=22776651\">5&nbsp;comments</a>              </td></tr>\n",
      "      <tr class=\"spacer\" style=\"height:5px\"></tr>\n",
      "                <tr class='athing' id='22780306'>\n",
      "      <td align=\"right\" valign=\"top\" class=\"title\"><span class=\"rank\">12.</span></td>      <td valign=\"top\" class=\"votelinks\"><center><a id='up_22780306' href='vote?id=22780306&amp;how=up&amp;goto=news'><div class='votearrow' title='upvote'></div></a></center></td><td class=\"title\"><a href=\"https://liveprogramnotes.com/demo.html\" class=\"storylink\">Show HN: Live Program Notes for Schubert Sonata in B-Flat</a><span class=\"sitebit comhead\"> (<a href=\"from?site=liveprogramnotes.com\"><span class=\"sitestr\">liveprogramnotes.com</span></a>)</span></td></tr><tr><td colspan=\"2\"></td><td class=\"subtext\">\n",
      "        <span class=\"score\" id=\"score_22780306\">8 points</span> by <a href=\"user?id=zweinz\" class=\"hnuser\">zweinz</a> <span class=\"age\"><a href=\"item?id=22780306\">2 hours ago</a></span> <span id=\"unv_22780306\"></span> | <a href=\"hide?id=22780306&amp;goto=news\">hide</a> | <a href=\"item?id=22780306\">1&nbsp;comment</a>              </td></tr>\n",
      "      <tr class=\"spacer\" style=\"height:5px\"></tr>\n",
      "                <tr class='athing' id='22780046'>\n",
      "      <td align=\"right\" valign=\"top\" class=\"title\"><span class=\"rank\">13.</span></td>      <td valign=\"top\" class=\"votelinks\"><center><a id='up_22780046' href='vote?id=22780046&amp;how=up&amp;goto=news'><div class='votearrow' title='upvote'></div></a></center></td><td class=\"title\"><a href=\"https://www.nature.com/articles/d41586-020-00998-2\" class=\"storylink\">Mochizuki's proof of the ABC conjecture accepted for publication</a><span class=\"sitebit comhead\"> (<a href=\"from?site=nature.com\"><span class=\"sitestr\">nature.com</span></a>)</span></td></tr><tr><td colspan=\"2\"></td><td class=\"subtext\">\n",
      "        <span class=\"score\" id=\"score_22780046\">61 points</span> by <a href=\"user?id=fovc\" class=\"hnuser\">fovc</a> <span class=\"age\"><a href=\"item?id=22780046\">3 hours ago</a></span> <span id=\"unv_22780046\"></span> | <a href=\"hide?id=22780046&amp;goto=news\">hide</a> | <a href=\"item?id=22780046\">38&nbsp;comments</a>              </td></tr>\n",
      "      <tr class=\"spacer\" style=\"height:5px\"></tr>\n",
      "                <tr class='athing' id='22777843'>\n",
      "      <td align=\"right\" valign=\"top\" class=\"title\"><span class=\"rank\">14.</span></td>      <td valign=\"top\" class=\"votelinks\"><center><a id='up_22777843' href='vote?id=22777843&amp;how=up&amp;goto=news'><div class='votearrow' title='upvote'></div></a></center></td><td class=\"title\"><a href=\"https://github.com/schneefux/vscode-winddown\" class=\"storylink\">Show HN: VS Code extension that fades out the colors until you take a break</a><span class=\"sitebit comhead\"> (<a href=\"from?site=github.com\"><span class=\"sitestr\">github.com</span></a>)</span></td></tr><tr><td colspan=\"2\"></td><td class=\"subtext\">\n",
      "        <span class=\"score\" id=\"score_22777843\">51 points</span> by <a href=\"user?id=schneefux\" class=\"hnuser\">schneefux</a> <span class=\"age\"><a href=\"item?id=22777843\">8 hours ago</a></span> <span id=\"unv_22777843\"></span> | <a href=\"hide?id=22777843&amp;goto=news\">hide</a> | <a href=\"item?id=22777843\">4&nbsp;comments</a>              </td></tr>\n",
      "      <tr class=\"spacer\" style=\"height:5px\"></tr>\n",
      "                <tr class='athing' id='22778089'>\n",
      "      <td align=\"right\" valign=\"top\" class=\"title\"><span class=\"rank\">15.</span></td>      <td valign=\"top\" class=\"votelinks\"><center><a id='up_22778089' href='vote?id=22778089&amp;how=up&amp;goto=news'><div class='votearrow' title='upvote'></div></a></center></td><td class=\"title\"><a href=\"item?id=22778089\" class=\"storylink\">Ask HN: Best practices for ethical web scraping?</a></td></tr><tr><td colspan=\"2\"></td><td class=\"subtext\">\n",
      "        <span class=\"score\" id=\"score_22778089\">166 points</span> by <a href=\"user?id=aspyct\" class=\"hnuser\">aspyct</a> <span class=\"age\"><a href=\"item?id=22778089\">7 hours ago</a></span> <span id=\"unv_22778089\"></span> | <a href=\"hide?id=22778089&amp;goto=news\">hide</a> | <a href=\"item?id=22778089\">65&nbsp;comments</a>              </td></tr>\n",
      "      <tr class=\"spacer\" style=\"height:5px\"></tr>\n",
      "                <tr class='athing' id='22780125'>\n",
      "      <td align=\"right\" valign=\"top\" class=\"title\"><span class=\"rank\">16.</span></td>      <td valign=\"top\" class=\"votelinks\"><center><a id='up_22780125' href='vote?id=22780125&amp;how=up&amp;goto=news'><div class='votearrow' title='upvote'></div></a></center></td><td class=\"title\"><a href=\"https://nationalinterest.org/blog/buzz/why-russia-fears-sweden%E2%80%99s-deadly-submarines-25896\" class=\"storylink\">Why Russia fears Sweden’s submarines</a><span class=\"sitebit comhead\"> (<a href=\"from?site=nationalinterest.org\"><span class=\"sitestr\">nationalinterest.org</span></a>)</span></td></tr><tr><td colspan=\"2\"></td><td class=\"subtext\">\n",
      "        <span class=\"score\" id=\"score_22780125\">58 points</span> by <a href=\"user?id=gullyfur\" class=\"hnuser\">gullyfur</a> <span class=\"age\"><a href=\"item?id=22780125\">2 hours ago</a></span> <span id=\"unv_22780125\"></span> | <a href=\"hide?id=22780125&amp;goto=news\">hide</a> | <a href=\"item?id=22780125\">30&nbsp;comments</a>              </td></tr>\n",
      "      <tr class=\"spacer\" style=\"height:5px\"></tr>\n",
      "                <tr class='athing' id='22768460'>\n",
      "      <td align=\"right\" valign=\"top\" class=\"title\"><span class=\"rank\">17.</span></td>      <td valign=\"top\" class=\"votelinks\"><center><a id='up_22768460' href='vote?id=22768460&amp;how=up&amp;goto=news'><div class='votearrow' title='upvote'></div></a></center></td><td class=\"title\"><a href=\"https://www.nextplatform.com/2020/04/02/tachyum-starts-from-scratch-to-etch-a-universal-processor/\" class=\"storylink\">Tachyum starts from scratch to etch a universal processor</a><span class=\"sitebit comhead\"> (<a href=\"from?site=nextplatform.com\"><span class=\"sitestr\">nextplatform.com</span></a>)</span></td></tr><tr><td colspan=\"2\"></td><td class=\"subtext\">\n",
      "        <span class=\"score\" id=\"score_22768460\">26 points</span> by <a href=\"user?id=rbanffy\" class=\"hnuser\">rbanffy</a> <span class=\"age\"><a href=\"item?id=22768460\">5 hours ago</a></span> <span id=\"unv_22768460\"></span> | <a href=\"hide?id=22768460&amp;goto=news\">hide</a> | <a href=\"item?id=22768460\">9&nbsp;comments</a>              </td></tr>\n",
      "      <tr class=\"spacer\" style=\"height:5px\"></tr>\n",
      "                <tr class='athing' id='22778123'>\n",
      "      <td align=\"right\" valign=\"top\" class=\"title\"><span class=\"rank\">18.</span></td>      <td valign=\"top\" class=\"votelinks\"><center><a id='up_22778123' href='vote?id=22778123&amp;how=up&amp;goto=news'><div class='votearrow' title='upvote'></div></a></center></td><td class=\"title\"><a href=\"item?id=22778123\" class=\"storylink\">Ask HN: What do you use to keep track of bookmarks/notes/snippets?</a></td></tr><tr><td colspan=\"2\"></td><td class=\"subtext\">\n",
      "        <span class=\"score\" id=\"score_22778123\">157 points</span> by <a href=\"user?id=danaw\" class=\"hnuser\">danaw</a> <span class=\"age\"><a href=\"item?id=22778123\">7 hours ago</a></span> <span id=\"unv_22778123\"></span> | <a href=\"hide?id=22778123&amp;goto=news\">hide</a> | <a href=\"item?id=22778123\">163&nbsp;comments</a>              </td></tr>\n",
      "      <tr class=\"spacer\" style=\"height:5px\"></tr>\n",
      "                <tr class='athing' id='22780940'>\n",
      "      <td align=\"right\" valign=\"top\" class=\"title\"><span class=\"rank\">19.</span></td>      <td valign=\"top\" class=\"votelinks\"><center><a id='up_22780940' href='vote?id=22780940&amp;how=up&amp;goto=news'><div class='votearrow' title='upvote'></div></a></center></td><td class=\"title\"><a href=\"https://www.reuters.com/article/us-health-coronavirus-russia-flights/russia-to-halt-all-flights-at-midnight-on-friday-including-for-repatriation-idUSKBN21L1ZM\" class=\"storylink\">Russia has halted all flights into and out of the country</a><span class=\"sitebit comhead\"> (<a href=\"from?site=reuters.com\"><span class=\"sitestr\">reuters.com</span></a>)</span></td></tr><tr><td colspan=\"2\"></td><td class=\"subtext\">\n",
      "        <span class=\"score\" id=\"score_22780940\">11 points</span> by <a href=\"user?id=bookofjoe\" class=\"hnuser\">bookofjoe</a> <span class=\"age\"><a href=\"item?id=22780940\">1 hour ago</a></span> <span id=\"unv_22780940\"></span> | <a href=\"hide?id=22780940&amp;goto=news\">hide</a> | <a href=\"item?id=22780940\">discuss</a>              </td></tr>\n",
      "      <tr class=\"spacer\" style=\"height:5px\"></tr>\n",
      "                <tr class='athing' id='22776749'>\n",
      "      <td align=\"right\" valign=\"top\" class=\"title\"><span class=\"rank\">20.</span></td>      <td valign=\"top\" class=\"votelinks\"><center><a id='up_22776749' href='vote?id=22776749&amp;how=up&amp;goto=news'><div class='votearrow' title='upvote'></div></a></center></td><td class=\"title\"><a href=\"https://datatracker.ietf.org/liaison/1677/\" class=\"storylink\">IETF Response to “LS on New IP, Shaping Future Network”</a><span class=\"sitebit comhead\"> (<a href=\"from?site=ietf.org\"><span class=\"sitestr\">ietf.org</span></a>)</span></td></tr><tr><td colspan=\"2\"></td><td class=\"subtext\">\n",
      "        <span class=\"score\" id=\"score_22776749\">106 points</span> by <a href=\"user?id=polymorph1sm\" class=\"hnuser\">polymorph1sm</a> <span class=\"age\"><a href=\"item?id=22776749\">13 hours ago</a></span> <span id=\"unv_22776749\"></span> | <a href=\"hide?id=22776749&amp;goto=news\">hide</a> | <a href=\"item?id=22776749\">51&nbsp;comments</a>              </td></tr>\n",
      "      <tr class=\"spacer\" style=\"height:5px\"></tr>\n",
      "                <tr class='athing' id='22779520'>\n",
      "      <td align=\"right\" valign=\"top\" class=\"title\"><span class=\"rank\">21.</span></td>      <td valign=\"top\" class=\"votelinks\"><center><a id='up_22779520' href='vote?id=22779520&amp;how=up&amp;goto=news'><div class='votearrow' title='upvote'></div></a></center></td><td class=\"title\"><a href=\"https://www.johndcook.com/blog/2020/04/04/feistel-networks/\" class=\"storylink\">Making an invertible function out of non-invertible parts</a><span class=\"sitebit comhead\"> (<a href=\"from?site=johndcook.com\"><span class=\"sitestr\">johndcook.com</span></a>)</span></td></tr><tr><td colspan=\"2\"></td><td class=\"subtext\">\n",
      "        <span class=\"score\" id=\"score_22779520\">6 points</span> by <a href=\"user?id=chmaynard\" class=\"hnuser\">chmaynard</a> <span class=\"age\"><a href=\"item?id=22779520\">4 hours ago</a></span> <span id=\"unv_22779520\"></span> | <a href=\"hide?id=22779520&amp;goto=news\">hide</a> | <a href=\"item?id=22779520\">discuss</a>              </td></tr>\n",
      "      <tr class=\"spacer\" style=\"height:5px\"></tr>\n",
      "                <tr class='athing' id='22777814'>\n",
      "      <td align=\"right\" valign=\"top\" class=\"title\"><span class=\"rank\">22.</span></td>      <td valign=\"top\" class=\"votelinks\"><center><a id='up_22777814' href='vote?id=22777814&amp;how=up&amp;goto=news'><div class='votearrow' title='upvote'></div></a></center></td><td class=\"title\"><a href=\"https://www.cell.com/current-biology/pdf/S0960-9822(20)30112-3.pdf?_returnURL=https%3A%2F%2Flinkinghub.elsevier.com%2Fretrieve%2Fpii%2FS0960982220301123%3Fshowall%3Dtrue\" class=\"storylink\" rel=\"nofollow\">New class of taste receptors – opsins – in Drosophila</a><span class=\"sitebit comhead\"> (<a href=\"from?site=cell.com\"><span class=\"sitestr\">cell.com</span></a>)</span></td></tr><tr><td colspan=\"2\"></td><td class=\"subtext\">\n",
      "        <span class=\"score\" id=\"score_22777814\">11 points</span> by <a href=\"user?id=bookofjoe\" class=\"hnuser\">bookofjoe</a> <span class=\"age\"><a href=\"item?id=22777814\">3 hours ago</a></span> <span id=\"unv_22777814\"></span> | <a href=\"hide?id=22777814&amp;goto=news\">hide</a> | <a href=\"item?id=22777814\">discuss</a>              </td></tr>\n",
      "      <tr class=\"spacer\" style=\"height:5px\"></tr>\n",
      "                <tr class='athing' id='22767581'>\n",
      "      <td align=\"right\" valign=\"top\" class=\"title\"><span class=\"rank\">23.</span></td>      <td valign=\"top\" class=\"votelinks\"><center><a id='up_22767581' href='vote?id=22767581&amp;how=up&amp;goto=news'><div class='votearrow' title='upvote'></div></a></center></td><td class=\"title\"><a href=\"https://blog.cityflo.com/how-we-reduced-our-google-maps-api-cost/\" class=\"storylink\">How We reduced our Google Maps API cost</a><span class=\"sitebit comhead\"> (<a href=\"from?site=cityflo.com\"><span class=\"sitestr\">cityflo.com</span></a>)</span></td></tr><tr><td colspan=\"2\"></td><td class=\"subtext\">\n",
      "        <span class=\"score\" id=\"score_22767581\">385 points</span> by <a href=\"user?id=haybanusa\" class=\"hnuser\">haybanusa</a> <span class=\"age\"><a href=\"item?id=22767581\">15 hours ago</a></span> <span id=\"unv_22767581\"></span> | <a href=\"hide?id=22767581&amp;goto=news\">hide</a> | <a href=\"item?id=22767581\">144&nbsp;comments</a>              </td></tr>\n",
      "      <tr class=\"spacer\" style=\"height:5px\"></tr>\n",
      "                <tr class='athing' id='22768143'>\n",
      "      <td align=\"right\" valign=\"top\" class=\"title\"><span class=\"rank\">24.</span></td>      <td valign=\"top\" class=\"votelinks\"><center><a id='up_22768143' href='vote?id=22768143&amp;how=up&amp;goto=news'><div class='votearrow' title='upvote'></div></a></center></td><td class=\"title\"><a href=\"https://arxiv.org/abs/2003.13720\" class=\"storylink\">Deep Molecular Programming</a><span class=\"sitebit comhead\"> (<a href=\"from?site=arxiv.org\"><span class=\"sitestr\">arxiv.org</span></a>)</span></td></tr><tr><td colspan=\"2\"></td><td class=\"subtext\">\n",
      "        <span class=\"score\" id=\"score_22768143\">117 points</span> by <a href=\"user?id=groar\" class=\"hnuser\">groar</a> <span class=\"age\"><a href=\"item?id=22768143\">13 hours ago</a></span> <span id=\"unv_22768143\"></span> | <a href=\"hide?id=22768143&amp;goto=news\">hide</a> | <a href=\"item?id=22768143\">10&nbsp;comments</a>              </td></tr>\n",
      "      <tr class=\"spacer\" style=\"height:5px\"></tr>\n",
      "                <tr class='athing' id='22779026'>\n",
      "      <td align=\"right\" valign=\"top\" class=\"title\"><span class=\"rank\">25.</span></td>      <td valign=\"top\" class=\"votelinks\"><center><a id='up_22779026' href='vote?id=22779026&amp;how=up&amp;goto=news'><div class='votearrow' title='upvote'></div></a></center></td><td class=\"title\"><a href=\"https://science.howstuffworks.com/environmental/energy/strategic-petroleum-reserve1.htm\" class=\"storylink\">What is the Strategic Petroleum Reserve?</a><span class=\"sitebit comhead\"> (<a href=\"from?site=howstuffworks.com\"><span class=\"sitestr\">howstuffworks.com</span></a>)</span></td></tr><tr><td colspan=\"2\"></td><td class=\"subtext\">\n",
      "        <span class=\"score\" id=\"score_22779026\">109 points</span> by <a href=\"user?id=TenJack\" class=\"hnuser\">TenJack</a> <span class=\"age\"><a href=\"item?id=22779026\">5 hours ago</a></span> <span id=\"unv_22779026\"></span> | <a href=\"hide?id=22779026&amp;goto=news\">hide</a> | <a href=\"item?id=22779026\">154&nbsp;comments</a>              </td></tr>\n",
      "      <tr class=\"spacer\" style=\"height:5px\"></tr>\n",
      "                <tr class='athing' id='22780308'>\n",
      "      <td align=\"right\" valign=\"top\" class=\"title\"><span class=\"rank\">26.</span></td>      <td valign=\"top\" class=\"votelinks\"><center><a id='up_22780308' href='vote?id=22780308&amp;how=up&amp;goto=news'><div class='votearrow' title='upvote'></div></a></center></td><td class=\"title\"><a href=\"https://www.bloomberg.com/news/articles/2020-04-03/they-rented-their-cars-out-online-then-things-fell-apart\" class=\"storylink\">Customers say Getaround has been slow to pay repair bills</a><span class=\"sitebit comhead\"> (<a href=\"from?site=bloomberg.com\"><span class=\"sitestr\">bloomberg.com</span></a>)</span></td></tr><tr><td colspan=\"2\"></td><td class=\"subtext\">\n",
      "        <span class=\"score\" id=\"score_22780308\">36 points</span> by <a href=\"user?id=JumpCrisscross\" class=\"hnuser\">JumpCrisscross</a> <span class=\"age\"><a href=\"item?id=22780308\">2 hours ago</a></span> <span id=\"unv_22780308\"></span> | <a href=\"hide?id=22780308&amp;goto=news\">hide</a> | <a href=\"item?id=22780308\">39&nbsp;comments</a>              </td></tr>\n",
      "      <tr class=\"spacer\" style=\"height:5px\"></tr>\n",
      "                <tr class='athing' id='22778742'>\n",
      "      <td align=\"right\" valign=\"top\" class=\"title\"><span class=\"rank\">27.</span></td>      <td valign=\"top\" class=\"votelinks\"><center><a id='up_22778742' href='vote?id=22778742&amp;how=up&amp;goto=news'><div class='votearrow' title='upvote'></div></a></center></td><td class=\"title\"><a href=\"https://www.theverge.com/2020/4/3/21206400/apple-tax-amazon-tv-prime-30-percent-developers\" class=\"storylink\">Apple's treatment of Developers is neither fair nor consistent</a><span class=\"sitebit comhead\"> (<a href=\"from?site=theverge.com\"><span class=\"sitestr\">theverge.com</span></a>)</span></td></tr><tr><td colspan=\"2\"></td><td class=\"subtext\">\n",
      "        <span class=\"score\" id=\"score_22778742\">193 points</span> by <a href=\"user?id=jedimind\" class=\"hnuser\">jedimind</a> <span class=\"age\"><a href=\"item?id=22778742\">5 hours ago</a></span> <span id=\"unv_22778742\"></span> | <a href=\"hide?id=22778742&amp;goto=news\">hide</a> | <a href=\"item?id=22778742\">157&nbsp;comments</a>              </td></tr>\n",
      "      <tr class=\"spacer\" style=\"height:5px\"></tr>\n",
      "                <tr class='athing' id='22778915'>\n",
      "      <td align=\"right\" valign=\"top\" class=\"title\"><span class=\"rank\">28.</span></td>      <td valign=\"top\" class=\"votelinks\"><center><a id='up_22778915' href='vote?id=22778915&amp;how=up&amp;goto=news'><div class='votearrow' title='upvote'></div></a></center></td><td class=\"title\"><a href=\"https://www.schneier.com/blog/archives/2020/04/security_and_pr_1.html\" class=\"storylink\">Security and Privacy Implications of Zoom</a><span class=\"sitebit comhead\"> (<a href=\"from?site=schneier.com\"><span class=\"sitestr\">schneier.com</span></a>)</span></td></tr><tr><td colspan=\"2\"></td><td class=\"subtext\">\n",
      "        <span class=\"score\" id=\"score_22778915\">68 points</span> by <a href=\"user?id=pwg\" class=\"hnuser\">pwg</a> <span class=\"age\"><a href=\"item?id=22778915\">5 hours ago</a></span> <span id=\"unv_22778915\"></span> | <a href=\"hide?id=22778915&amp;goto=news\">hide</a> | <a href=\"item?id=22778915\">5&nbsp;comments</a>              </td></tr>\n",
      "      <tr class=\"spacer\" style=\"height:5px\"></tr>\n",
      "                <tr class='athing' id='22771419'>\n",
      "      <td align=\"right\" valign=\"top\" class=\"title\"><span class=\"rank\">29.</span></td>      <td valign=\"top\" class=\"votelinks\"><center><a id='up_22771419' href='vote?id=22771419&amp;how=up&amp;goto=news'><div class='votearrow' title='upvote'></div></a></center></td><td class=\"title\"><a href=\"https://www.gamasutra.com/view/feature/131746/postmortem_dreamworks_.php\" class=\"storylink\">Postmortem: DreamWorks Interactive's Trespasser (1999)</a><span class=\"sitebit comhead\"> (<a href=\"from?site=gamasutra.com\"><span class=\"sitestr\">gamasutra.com</span></a>)</span></td></tr><tr><td colspan=\"2\"></td><td class=\"subtext\">\n",
      "        <span class=\"score\" id=\"score_22771419\">37 points</span> by <a href=\"user?id=Hooke\" class=\"hnuser\">Hooke</a> <span class=\"age\"><a href=\"item?id=22771419\">9 hours ago</a></span> <span id=\"unv_22771419\"></span> | <a href=\"hide?id=22771419&amp;goto=news\">hide</a> | <a href=\"item?id=22771419\">17&nbsp;comments</a>              </td></tr>\n",
      "      <tr class=\"spacer\" style=\"height:5px\"></tr>\n",
      "                <tr class='athing' id='22774057'>\n",
      "      <td align=\"right\" valign=\"top\" class=\"title\"><span class=\"rank\">30.</span></td>      <td valign=\"top\" class=\"votelinks\"><center><a id='up_22774057' href='vote?id=22774057&amp;how=up&amp;goto=news'><div class='votearrow' title='upvote'></div></a></center></td><td class=\"title\"><a href=\"https://reperiendi.wordpress.com/2020/04/03/how-i-recovered-over-300k-of-bitcoin/\" class=\"storylink\">How we recovered $300k of Bitcoin</a><span class=\"sitebit comhead\"> (<a href=\"from?site=reperiendi.wordpress.com\"><span class=\"sitestr\">reperiendi.wordpress.com</span></a>)</span></td></tr><tr><td colspan=\"2\"></td><td class=\"subtext\">\n",
      "        <span class=\"score\" id=\"score_22774057\">892 points</span> by <a href=\"user?id=mathgenius\" class=\"hnuser\">mathgenius</a> <span class=\"age\"><a href=\"item?id=22774057\">23 hours ago</a></span> <span id=\"unv_22774057\"></span> | <a href=\"hide?id=22774057&amp;goto=news\">hide</a> | <a href=\"item?id=22774057\">170&nbsp;comments</a>              </td></tr>\n",
      "      <tr class=\"spacer\" style=\"height:5px\"></tr>\n",
      "            <tr class=\"morespace\" style=\"height:10px\"></tr><tr><td colspan=\"2\"></td><td class=\"title\"><a href=\"news?p=2\" class=\"morelink\" rel=\"next\">More</a></td></tr>\n",
      "  </table>\n",
      "</td></tr>\n",
      "<tr><td><img src=\"s.gif\" height=\"10\" width=\"0\"><table width=\"100%\" cellspacing=\"0\" cellpadding=\"1\"><tr><td bgcolor=\"#ff6600\"></td></tr></table><br><center><span class=\"yclinks\"><a href=\"newsguidelines.html\">Guidelines</a>\n",
      "        | <a href=\"newsfaq.html\">FAQ</a>\n",
      "        | <a href=\"mailto:hn@ycombinator.com\">Support</a>\n",
      "        | <a href=\"https://github.com/HackerNews/API\">API</a>\n",
      "        | <a href=\"security.html\">Security</a>\n",
      "        | <a href=\"lists\">Lists</a>\n",
      "        | <a href=\"bookmarklet.html\" rel=\"nofollow\">Bookmarklet</a>\n",
      "        | <a href=\"http://www.ycombinator.com/legal/\">Legal</a>\n",
      "        | <a href=\"http://www.ycombinator.com/apply/\">Apply to YC</a>\n",
      "        | <a href=\"mailto:hn@ycombinator.com\">Contact</a></span><br><br><form method=\"get\" action=\"//hn.algolia.com/\">Search:\n",
      "          <input type=\"text\" name=\"q\" value=\"\" size=\"17\" autocorrect=\"off\" spellcheck=\"false\" autocapitalize=\"off\" autocomplete=\"false\"></form>\n",
      "            </center></td></tr>\n",
      "      </table></center></body><script type='text/javascript' src='hn.js?yKbFoAYS7v71r3MOfeiU'></script></html>\n",
      "\n"
     ]
    }
   ],
   "source": [
    "import requests\n",
    "\n",
    "# Fetch a web page\n",
    "r = requests.get(\"https://news.ycombinator.com\")\n",
    "print(r.text)"
   ]
  },
  {
   "cell_type": "code",
   "execution_count": 5,
   "metadata": {},
   "outputs": [
    {
     "name": "stdout",
     "output_type": "stream",
     "text": [
      "\n",
      "        \n",
      "          \n",
      "        Hacker News\n",
      "        \n",
      "                  Hacker News\n",
      "              new | past | comments | ask | show | jobs | submit            \n",
      "                              login\n",
      "                          \n",
      "              \n",
      "\n",
      "              \n",
      "      1.      Startups are pummeled in the ‘great unwinding’ (nytimes.com)\n",
      "        138 points by haasted 1 hour ago  | hide | 96&nbsp;comments              \n",
      "      \n",
      "                \n",
      "      2.      Yet another novel I will no longer write (antipope.org)\n",
      "        111 points by ttepasse 2 hours ago  | hide | 47&nbsp;comments              \n",
      "      \n",
      "                \n",
      "      3.      Show HN: A site to keep track of critters you can catch in Animal Crossing (ac-catch.com)\n",
      "        60 points by sawyerjhood 2 hours ago  | hide | 18&nbsp;comments              \n",
      "      \n",
      "                \n",
      "      4.      How Gov.uk Notify reliably sends text messages to users (gds.blog.gov.uk)\n",
      "        181 points by robin_reala 6 hours ago  | hide | 72&nbsp;comments              \n",
      "      \n",
      "                \n",
      "      5.      Rare Second World War Footage of Bletchley Park Emerges (theregister.co.uk)\n",
      "        29 points by sohkamyung 3 hours ago  | hide | 3&nbsp;comments              \n",
      "      \n",
      "                \n",
      "      6.      Show HN: I built a service to discover and monitor rapidly growing trends (treendly.com)\n",
      "        249 points by mikerubini 10 hours ago  | hide | 88&nbsp;comments              \n",
      "      \n",
      "                \n",
      "      7.      Show HN: Firefox addon that hides news articles about Covid-19 (addons.mozilla.org)\n",
      "        17 points by mailea 51 minutes ago  | hide | 2&nbsp;comments              \n",
      "      \n",
      "                \n",
      "      8.      Show HN: 33 line React (leontrolski.github.io)\n",
      "        359 points by leontrolski 13 hours ago  | hide | 131&nbsp;comments              \n",
      "      \n",
      "                \n",
      "      9.      Deep-sea worms and bacteria team up to harvest methane (phys.org)\n",
      "        35 points by dnetesn 5 hours ago  | hide | 3&nbsp;comments              \n",
      "      \n",
      "                \n",
      "      10.      Gainesville, Florida, put its internal emails online with few limits (montgomeryadvertiser.com)\n",
      "        116 points by danso 11 hours ago  | hide | 30&nbsp;comments              \n",
      "      \n",
      "                \n",
      "      11.      Building dark mode on Stack Overflow (stackoverflow.blog)\n",
      "        15 points by lobo_tuerto 2 hours ago  | hide | 5&nbsp;comments              \n",
      "      \n",
      "                \n",
      "      12.      Show HN: Live Program Notes for Schubert Sonata in B-Flat (liveprogramnotes.com)\n",
      "        8 points by zweinz 2 hours ago  | hide | 1&nbsp;comment              \n",
      "      \n",
      "                \n",
      "      13.      Mochizuki's proof of the ABC conjecture accepted for publication (nature.com)\n",
      "        61 points by fovc 3 hours ago  | hide | 38&nbsp;comments              \n",
      "      \n",
      "                \n",
      "      14.      Show HN: VS Code extension that fades out the colors until you take a break (github.com)\n",
      "        51 points by schneefux 8 hours ago  | hide | 4&nbsp;comments              \n",
      "      \n",
      "                \n",
      "      15.      Ask HN: Best practices for ethical web scraping?\n",
      "        166 points by aspyct 7 hours ago  | hide | 65&nbsp;comments              \n",
      "      \n",
      "                \n",
      "      16.      Why Russia fears Sweden’s submarines (nationalinterest.org)\n",
      "        58 points by gullyfur 2 hours ago  | hide | 30&nbsp;comments              \n",
      "      \n",
      "                \n",
      "      17.      Tachyum starts from scratch to etch a universal processor (nextplatform.com)\n",
      "        26 points by rbanffy 5 hours ago  | hide | 9&nbsp;comments              \n",
      "      \n",
      "                \n",
      "      18.      Ask HN: What do you use to keep track of bookmarks/notes/snippets?\n",
      "        157 points by danaw 7 hours ago  | hide | 163&nbsp;comments              \n",
      "      \n",
      "                \n",
      "      19.      Russia has halted all flights into and out of the country (reuters.com)\n",
      "        11 points by bookofjoe 1 hour ago  | hide | discuss              \n",
      "      \n",
      "                \n",
      "      20.      IETF Response to “LS on New IP, Shaping Future Network” (ietf.org)\n",
      "        106 points by polymorph1sm 13 hours ago  | hide | 51&nbsp;comments              \n",
      "      \n",
      "                \n",
      "      21.      Making an invertible function out of non-invertible parts (johndcook.com)\n",
      "        6 points by chmaynard 4 hours ago  | hide | discuss              \n",
      "      \n",
      "                \n",
      "      22.      New class of taste receptors – opsins – in Drosophila (cell.com)\n",
      "        11 points by bookofjoe 3 hours ago  | hide | discuss              \n",
      "      \n",
      "                \n",
      "      23.      How We reduced our Google Maps API cost (cityflo.com)\n",
      "        385 points by haybanusa 15 hours ago  | hide | 144&nbsp;comments              \n",
      "      \n",
      "                \n",
      "      24.      Deep Molecular Programming (arxiv.org)\n",
      "        117 points by groar 13 hours ago  | hide | 10&nbsp;comments              \n",
      "      \n",
      "                \n",
      "      25.      What is the Strategic Petroleum Reserve? (howstuffworks.com)\n",
      "        109 points by TenJack 5 hours ago  | hide | 154&nbsp;comments              \n",
      "      \n",
      "                \n",
      "      26.      Customers say Getaround has been slow to pay repair bills (bloomberg.com)\n",
      "        36 points by JumpCrisscross 2 hours ago  | hide | 39&nbsp;comments              \n",
      "      \n",
      "                \n",
      "      27.      Apple's treatment of Developers is neither fair nor consistent (theverge.com)\n",
      "        193 points by jedimind 5 hours ago  | hide | 157&nbsp;comments              \n",
      "      \n",
      "                \n",
      "      28.      Security and Privacy Implications of Zoom (schneier.com)\n",
      "        68 points by pwg 5 hours ago  | hide | 5&nbsp;comments              \n",
      "      \n",
      "                \n",
      "      29.      Postmortem: DreamWorks Interactive's Trespasser (1999) (gamasutra.com)\n",
      "        37 points by Hooke 9 hours ago  | hide | 17&nbsp;comments              \n",
      "      \n",
      "                \n",
      "      30.      How we recovered $300k of Bitcoin (reperiendi.wordpress.com)\n",
      "        892 points by mathgenius 23 hours ago  | hide | 170&nbsp;comments              \n",
      "      \n",
      "            More\n",
      "  \n",
      "\n",
      "Guidelines\n",
      "        | FAQ\n",
      "        | Support\n",
      "        | API\n",
      "        | Security\n",
      "        | Lists\n",
      "        | Bookmarklet\n",
      "        | Legal\n",
      "        | Apply to YC\n",
      "        | ContactSearch:\n",
      "          \n",
      "            \n",
      "      \n",
      "\n"
     ]
    }
   ],
   "source": [
    "import re\n",
    "\n",
    "# Remove HTML tags using RegEx\n",
    "pattern = re.compile(r'<.*?>')  # tags look like <...>\n",
    "print(pattern.sub('', r.text))  # replace them with blank"
   ]
  },
  {
   "cell_type": "code",
   "execution_count": null,
   "metadata": {},
   "outputs": [],
   "source": [
    "from bs4 import BeautifulSoup\n",
    "\n",
    "# Remove HTML tags using Beautiful Soup library\n",
    "soup = BeautifulSoup(r.text, \"html5lib\")\n",
    "print(soup.get_text())"
   ]
  },
  {
   "cell_type": "code",
   "execution_count": null,
   "metadata": {
    "scrolled": true
   },
   "outputs": [],
   "source": [
    "# Find all articles\n",
    "summaries = soup.find_all(\"tr\", class_=\"athing\")\n",
    "summaries[0]"
   ]
  },
  {
   "cell_type": "code",
   "execution_count": null,
   "metadata": {},
   "outputs": [],
   "source": [
    "# Extract title\n",
    "summaries[0].find(\"a\", class_=\"storylink\").get_text().strip()"
   ]
  },
  {
   "cell_type": "code",
   "execution_count": null,
   "metadata": {},
   "outputs": [],
   "source": [
    "# Find all articles, extract titles\n",
    "articles = []\n",
    "summaries = soup.find_all(\"tr\", class_=\"athing\")\n",
    "for summary in summaries:\n",
    "    title = summary.find(\"a\", class_=\"storylink\").get_text().strip()\n",
    "    articles.append((title))\n",
    "\n",
    "print(len(articles), \"Article summaries found. Sample:\")\n",
    "print(articles[0])"
   ]
  },
  {
   "cell_type": "markdown",
   "metadata": {
    "collapsed": true
   },
   "source": [
    "## Normalization"
   ]
  },
  {
   "cell_type": "markdown",
   "metadata": {},
   "source": [
    "### Case Normalization"
   ]
  },
  {
   "cell_type": "code",
   "execution_count": 7,
   "metadata": {},
   "outputs": [
    {
     "name": "stdout",
     "output_type": "stream",
     "text": [
      "The first time you see The Second Renaissance it may look boring. Look at it at least twice and definitely watch part 2. It will change your view of the matrix. Are the human people the ones who started the war ? Is AI a bad thing ?\n"
     ]
    }
   ],
   "source": [
    "# Sample text\n",
    "text = \"The first time you see The Second Renaissance it may look boring. Look at it at least twice and definitely watch part 2. It will change your view of the matrix. Are the human people the ones who started the war ? Is AI a bad thing ?\"\n",
    "print(text)"
   ]
  },
  {
   "cell_type": "code",
   "execution_count": 6,
   "metadata": {},
   "outputs": [
    {
     "name": "stdout",
     "output_type": "stream",
     "text": [
      "hieroglyphic writing dates from c. 3000 bc, and is composed of hundreds of symbols. a hieroglyph can represent a word, a sound, or a silent determinative; and the same symbol can serve different purposes in different contexts. hieroglyphs were a formal script, used on stone monuments and in tombs, that could be as detailed as individual works of art.\n",
      "\n"
     ]
    }
   ],
   "source": [
    "# Convert to lowercase\n",
    "text = text.lower() \n",
    "print(text)"
   ]
  },
  {
   "cell_type": "markdown",
   "metadata": {},
   "source": [
    "### Punctuation Removal"
   ]
  },
  {
   "cell_type": "code",
   "execution_count": 8,
   "metadata": {},
   "outputs": [
    {
     "name": "stdout",
     "output_type": "stream",
     "text": [
      "The first time you see The Second Renaissance it may look boring  Look at it at least twice and definitely watch part 2  It will change your view of the matrix  Are the human people the ones who started the war   Is AI a bad thing  \n"
     ]
    }
   ],
   "source": [
    "import re\n",
    "\n",
    "# Remove punctuation characters\n",
    "text = re.sub(r\"[^a-zA-Z0-9]\", \" \", text) \n",
    "print(text)"
   ]
  },
  {
   "cell_type": "markdown",
   "metadata": {},
   "source": [
    "## Tokenization"
   ]
  },
  {
   "cell_type": "code",
   "execution_count": 9,
   "metadata": {},
   "outputs": [
    {
     "name": "stdout",
     "output_type": "stream",
     "text": [
      "['The', 'first', 'time', 'you', 'see', 'The', 'Second', 'Renaissance', 'it', 'may', 'look', 'boring', 'Look', 'at', 'it', 'at', 'least', 'twice', 'and', 'definitely', 'watch', 'part', '2', 'It', 'will', 'change', 'your', 'view', 'of', 'the', 'matrix', 'Are', 'the', 'human', 'people', 'the', 'ones', 'who', 'started', 'the', 'war', 'Is', 'AI', 'a', 'bad', 'thing']\n"
     ]
    }
   ],
   "source": [
    "# Split text into tokens (words)\n",
    "words = text.split()\n",
    "print(words)"
   ]
  },
  {
   "cell_type": "markdown",
   "metadata": {},
   "source": [
    "### NLTK: Natural Language ToolKit"
   ]
  },
  {
   "cell_type": "code",
   "execution_count": 10,
   "metadata": {},
   "outputs": [],
   "source": [
    "import os\n",
    "import nltk\n",
    "nltk.data.path.append(os.path.join(os.getcwd(), \"nltk_data\"))"
   ]
  },
  {
   "cell_type": "code",
   "execution_count": 11,
   "metadata": {},
   "outputs": [
    {
     "name": "stdout",
     "output_type": "stream",
     "text": [
      "Dr. Smith graduated from the University of Washington. He later started an analytics firm called Lux, which catered to enterprise customers.\n"
     ]
    }
   ],
   "source": [
    "# Another sample text\n",
    "text = \"Dr. Smith graduated from the University of Washington. He later started an analytics firm called Lux, which catered to enterprise customers.\"\n",
    "print(text)"
   ]
  },
  {
   "cell_type": "code",
   "execution_count": 12,
   "metadata": {},
   "outputs": [
    {
     "name": "stdout",
     "output_type": "stream",
     "text": [
      "['Dr.', 'Smith', 'graduated', 'from', 'the', 'University', 'of', 'Washington', '.', 'He', 'later', 'started', 'an', 'analytics', 'firm', 'called', 'Lux', ',', 'which', 'catered', 'to', 'enterprise', 'customers', '.']\n"
     ]
    }
   ],
   "source": [
    "from nltk.tokenize import word_tokenize\n",
    "\n",
    "# Split text into words using NLTK\n",
    "words = word_tokenize(text)\n",
    "print(words)"
   ]
  },
  {
   "cell_type": "code",
   "execution_count": 13,
   "metadata": {},
   "outputs": [
    {
     "name": "stdout",
     "output_type": "stream",
     "text": [
      "['Dr. Smith graduated from the University of Washington.', 'He later started an analytics firm called Lux, which catered to enterprise customers.']\n"
     ]
    }
   ],
   "source": [
    "from nltk.tokenize import sent_tokenize\n",
    "\n",
    "# Split text into sentences\n",
    "sentences = sent_tokenize(text)\n",
    "print(sentences)"
   ]
  },
  {
   "cell_type": "code",
   "execution_count": 14,
   "metadata": {},
   "outputs": [
    {
     "name": "stdout",
     "output_type": "stream",
     "text": [
      "['i', 'me', 'my', 'myself', 'we', 'our', 'ours', 'ourselves', 'you', \"you're\", \"you've\", \"you'll\", \"you'd\", 'your', 'yours', 'yourself', 'yourselves', 'he', 'him', 'his', 'himself', 'she', \"she's\", 'her', 'hers', 'herself', 'it', \"it's\", 'its', 'itself', 'they', 'them', 'their', 'theirs', 'themselves', 'what', 'which', 'who', 'whom', 'this', 'that', \"that'll\", 'these', 'those', 'am', 'is', 'are', 'was', 'were', 'be', 'been', 'being', 'have', 'has', 'had', 'having', 'do', 'does', 'did', 'doing', 'a', 'an', 'the', 'and', 'but', 'if', 'or', 'because', 'as', 'until', 'while', 'of', 'at', 'by', 'for', 'with', 'about', 'against', 'between', 'into', 'through', 'during', 'before', 'after', 'above', 'below', 'to', 'from', 'up', 'down', 'in', 'out', 'on', 'off', 'over', 'under', 'again', 'further', 'then', 'once', 'here', 'there', 'when', 'where', 'why', 'how', 'all', 'any', 'both', 'each', 'few', 'more', 'most', 'other', 'some', 'such', 'no', 'nor', 'not', 'only', 'own', 'same', 'so', 'than', 'too', 'very', 's', 't', 'can', 'will', 'just', 'don', \"don't\", 'should', \"should've\", 'now', 'd', 'll', 'm', 'o', 're', 've', 'y', 'ain', 'aren', \"aren't\", 'couldn', \"couldn't\", 'didn', \"didn't\", 'doesn', \"doesn't\", 'hadn', \"hadn't\", 'hasn', \"hasn't\", 'haven', \"haven't\", 'isn', \"isn't\", 'ma', 'mightn', \"mightn't\", 'mustn', \"mustn't\", 'needn', \"needn't\", 'shan', \"shan't\", 'shouldn', \"shouldn't\", 'wasn', \"wasn't\", 'weren', \"weren't\", 'won', \"won't\", 'wouldn', \"wouldn't\"]\n"
     ]
    }
   ],
   "source": [
    "# List stop words\n",
    "from nltk.corpus import stopwords\n",
    "print(stopwords.words(\"english\"))"
   ]
  },
  {
   "cell_type": "code",
   "execution_count": 15,
   "metadata": {},
   "outputs": [
    {
     "name": "stdout",
     "output_type": "stream",
     "text": [
      "['the', 'first', 'time', 'you', 'see', 'the', 'second', 'renaissance', 'it', 'may', 'look', 'boring', 'look', 'at', 'it', 'at', 'least', 'twice', 'and', 'definitely', 'watch', 'part', '2', 'it', 'will', 'change', 'your', 'view', 'of', 'the', 'matrix', 'are', 'the', 'human', 'people', 'the', 'ones', 'who', 'started', 'the', 'war', 'is', 'ai', 'a', 'bad', 'thing']\n"
     ]
    }
   ],
   "source": [
    "# Reset text\n",
    "text = \"The first time you see The Second Renaissance it may look boring. Look at it at least twice and definitely watch part 2. It will change your view of the matrix. Are the human people the ones who started the war ? Is AI a bad thing ?\"\n",
    "\n",
    "# Normalize it\n",
    "text = re.sub(r\"[^a-zA-Z0-9]\", \" \", text.lower())\n",
    "\n",
    "# Tokenize it\n",
    "words = text.split()\n",
    "print(words)"
   ]
  },
  {
   "cell_type": "code",
   "execution_count": 16,
   "metadata": {},
   "outputs": [
    {
     "name": "stdout",
     "output_type": "stream",
     "text": [
      "['first', 'time', 'see', 'second', 'renaissance', 'may', 'look', 'boring', 'look', 'least', 'twice', 'definitely', 'watch', 'part', '2', 'change', 'view', 'matrix', 'human', 'people', 'ones', 'started', 'war', 'ai', 'bad', 'thing']\n"
     ]
    }
   ],
   "source": [
    "# Remove stop words\n",
    "words = [w for w in words if w not in stopwords.words(\"english\")]\n",
    "print(words)"
   ]
  },
  {
   "cell_type": "markdown",
   "metadata": {},
   "source": [
    "### Sentence Parsing"
   ]
  },
  {
   "cell_type": "code",
   "execution_count": null,
   "metadata": {},
   "outputs": [],
   "source": [
    "import nltk\n",
    "\n",
    "# Define a custom grammar\n",
    "my_grammar = nltk.CFG.fromstring(\"\"\"\n",
    "S -> NP VP\n",
    "PP -> P NP\n",
    "NP -> Det N | Det N PP | 'I'\n",
    "VP -> V NP | VP PP\n",
    "Det -> 'an' | 'my'\n",
    "N -> 'elephant' | 'pajamas'\n",
    "V -> 'shot'\n",
    "P -> 'in'\n",
    "\"\"\")\n",
    "parser = nltk.ChartParser(my_grammar)\n",
    "\n",
    "# Parse a sentence\n",
    "sentence = word_tokenize(\"I shot an elephant in my pajamas\")\n",
    "for tree in parser.parse(sentence):\n",
    "    print(tree)"
   ]
  },
  {
   "cell_type": "markdown",
   "metadata": {},
   "source": [
    "## Stemming & Lemmatization\n",
    "\n",
    "### Stemming"
   ]
  },
  {
   "cell_type": "code",
   "execution_count": null,
   "metadata": {},
   "outputs": [],
   "source": [
    "from nltk.stem.porter import PorterStemmer\n",
    "\n",
    "# Reduce words to their stems\n",
    "stemmed = [PorterStemmer().stem(w) for w in words]\n",
    "print(stemmed)"
   ]
  },
  {
   "cell_type": "markdown",
   "metadata": {},
   "source": [
    "### Lemmatization"
   ]
  },
  {
   "cell_type": "code",
   "execution_count": null,
   "metadata": {},
   "outputs": [],
   "source": [
    "from nltk.stem.wordnet import WordNetLemmatizer\n",
    "\n",
    "# Reduce words to their root form\n",
    "lemmed = [WordNetLemmatizer().lemmatize(w) for w in words]\n",
    "print(lemmed)"
   ]
  },
  {
   "cell_type": "code",
   "execution_count": null,
   "metadata": {},
   "outputs": [],
   "source": [
    "# Lemmatize verbs by specifying pos\n",
    "lemmed = [WordNetLemmatizer().lemmatize(w, pos='v') for w in lemmed]\n",
    "print(lemmed)"
   ]
  },
  {
   "cell_type": "code",
   "execution_count": null,
   "metadata": {},
   "outputs": [],
   "source": []
  }
 ],
 "metadata": {
  "kernelspec": {
   "display_name": "Python 3",
   "language": "python",
   "name": "python3"
  },
  "language_info": {
   "codemirror_mode": {
    "name": "ipython",
    "version": 3
   },
   "file_extension": ".py",
   "mimetype": "text/x-python",
   "name": "python",
   "nbconvert_exporter": "python",
   "pygments_lexer": "ipython3",
   "version": "3.6.3"
  }
 },
 "nbformat": 4,
 "nbformat_minor": 2
}
